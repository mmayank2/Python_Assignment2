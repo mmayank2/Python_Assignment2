{
 "cells": [
  {
   "cell_type": "markdown",
   "id": "dbdd6e0d",
   "metadata": {},
   "source": [
    "# <center><u> Python Assignment 2 </u></center>"
   ]
  },
  {
   "cell_type": "markdown",
   "id": "7c4c0fef",
   "metadata": {},
   "source": [
    "1. <font color=\"red\"> Create a python program to sort the given list of tuples based on integer value using a \n",
    "lambda function.<br><br>[('Sachin Tendulkar', 34357), ('Ricky Ponting', 27483), ('Jack Kallis', 25534), ('Virat Kohli', 24936)] </font>"
   ]
  },
  {
   "cell_type": "markdown",
   "id": "149c349c",
   "metadata": {},
   "source": [
    "<font color=\"red\">Answer :-</font>"
   ]
  },
  {
   "cell_type": "code",
   "execution_count": 1,
   "id": "ac323062",
   "metadata": {},
   "outputs": [],
   "source": [
    "l=[('Sachin Tendulkar', 34357), ('Ricky Ponting', 27483), ('Jack Kallis', 25534), ('Virat Kohli', 24936)]"
   ]
  },
  {
   "cell_type": "code",
   "execution_count": 2,
   "id": "920b53f3",
   "metadata": {},
   "outputs": [
    {
     "data": {
      "text/plain": [
       "[('Virat Kohli', 24936),\n",
       " ('Jack Kallis', 25534),\n",
       " ('Ricky Ponting', 27483),\n",
       " ('Sachin Tendulkar', 34357)]"
      ]
     },
     "execution_count": 2,
     "metadata": {},
     "output_type": "execute_result"
    }
   ],
   "source": [
    "l.sort( key= lambda x: x[1])\n",
    "l"
   ]
  },
  {
   "cell_type": "markdown",
   "id": "4225245d",
   "metadata": {},
   "source": [
    "Q2.<font color=\"red\"> Write a Python Program to find the squares of all the numbers in the given list of integers using \n",
    "lambda and map functions. </font>"
   ]
  },
  {
   "cell_type": "markdown",
   "id": "6c86e37e",
   "metadata": {},
   "source": [
    "<font color=\"red\">Answer :-</font>"
   ]
  },
  {
   "cell_type": "code",
   "execution_count": 3,
   "id": "3c9a6168",
   "metadata": {},
   "outputs": [
    {
     "data": {
      "text/plain": [
       "[1, 4, 9, 16, 25, 36, 49, 64, 81, 100]"
      ]
     },
     "execution_count": 3,
     "metadata": {},
     "output_type": "execute_result"
    }
   ],
   "source": [
    "l1=[1,2,3,4,5,6,7,8,9,10]\n",
    "list(map(lambda x:x**2,l1))"
   ]
  },
  {
   "cell_type": "markdown",
   "id": "b435872e",
   "metadata": {},
   "source": [
    "Q3. <font color=\"red\">Write a python program to convert the given list of integers into a tuple of strings. Use map and \n",
    "lambda functions.<br><br>\n",
    "    Given String: [1, 2, 3, 4, 5, 6, 7, 8, 9, 10] <br><br>\n",
    "Expected output: ('1', '2', '3', '4', '5', '6', '7', '8', '9', '10') </font>"
   ]
  },
  {
   "cell_type": "markdown",
   "id": "5c78c0da",
   "metadata": {},
   "source": [
    "<font color=\"red\">Answer :-</font>"
   ]
  },
  {
   "cell_type": "code",
   "execution_count": 4,
   "id": "04598cff",
   "metadata": {},
   "outputs": [
    {
     "data": {
      "text/plain": [
       "('1', '2', '3', '4', '5', '6', '7', '8', '9', '10')"
      ]
     },
     "execution_count": 4,
     "metadata": {},
     "output_type": "execute_result"
    }
   ],
   "source": [
    "l2=[1, 2, 3, 4, 5, 6, 7, 8, 9, 10]\n",
    "tuple(map(lambda x:str(x),l2))"
   ]
  },
  {
   "cell_type": "markdown",
   "id": "c7e5f94f",
   "metadata": {},
   "source": [
    "Q4. <font color=\"red\"> Write a python program using reduce function to compute the product of a list containing numbers \n",
    "from 1 to 25. </font>"
   ]
  },
  {
   "cell_type": "markdown",
   "id": "aaebd9b7",
   "metadata": {},
   "source": [
    "<font color=\"red\">Answer :-</font>"
   ]
  },
  {
   "cell_type": "code",
   "execution_count": 5,
   "id": "1bf55498",
   "metadata": {},
   "outputs": [],
   "source": [
    "from functools import reduce\n",
    "l3=[]\n",
    "for i in range(1,26):\n",
    "    l3.append(i)\n"
   ]
  },
  {
   "cell_type": "code",
   "execution_count": 6,
   "id": "1d1012f5",
   "metadata": {},
   "outputs": [
    {
     "data": {
      "text/plain": [
       "15511210043330985984000000"
      ]
     },
     "execution_count": 6,
     "metadata": {},
     "output_type": "execute_result"
    }
   ],
   "source": [
    "reduce(lambda x,y:x*y,l3)"
   ]
  },
  {
   "cell_type": "markdown",
   "id": "4dcaf990",
   "metadata": {},
   "source": [
    " Q5. <font color=\"red\"> Write a python program to filter the numbers in a given list that are divisible by 2 and 3 using the \n",
    "filter function.\n",
    "<br><br>\n",
    "[2, 3, 6, 9, 27, 60, 90, 120, 55, 46] </font>"
   ]
  },
  {
   "cell_type": "markdown",
   "id": "7164d787",
   "metadata": {},
   "source": [
    "<font color=\"red\">Answer :-</font>"
   ]
  },
  {
   "cell_type": "code",
   "execution_count": 7,
   "id": "c119311e",
   "metadata": {},
   "outputs": [
    {
     "data": {
      "text/plain": [
       "[6, 60, 90, 120]"
      ]
     },
     "execution_count": 7,
     "metadata": {},
     "output_type": "execute_result"
    }
   ],
   "source": [
    "l4=[2, 3, 6, 9, 27, 60, 90, 120, 55, 46]\n",
    "list(filter(lambda x:x%2==0 and x%3==0,l4))"
   ]
  },
  {
   "cell_type": "markdown",
   "id": "59a8fc88",
   "metadata": {},
   "source": [
    "Q6. <font color=\"red\">Write a python program to find palindromes in the given list of strings using lambda and filter \n",
    "function.\n",
    "<br><br>\n",
    "['python', 'php', 'aba', 'radar', 'level'] </font>"
   ]
  },
  {
   "cell_type": "markdown",
   "id": "7e30ce79",
   "metadata": {},
   "source": [
    "<font color=\"red\">Answer :-</font>"
   ]
  },
  {
   "cell_type": "code",
   "execution_count": 8,
   "id": "3ba5d61c",
   "metadata": {},
   "outputs": [
    {
     "data": {
      "text/plain": [
       "['php', 'aba', 'radar', 'level']"
      ]
     },
     "execution_count": 8,
     "metadata": {},
     "output_type": "execute_result"
    }
   ],
   "source": [
    "l5=['python', 'php', 'aba', 'radar', 'level']\n",
    "list(filter(lambda s: s==s[::-1],l5))"
   ]
  },
  {
   "cell_type": "code",
   "execution_count": null,
   "id": "9e6ccb2a",
   "metadata": {},
   "outputs": [],
   "source": []
  }
 ],
 "metadata": {
  "kernelspec": {
   "display_name": "Python 3 (ipykernel)",
   "language": "python",
   "name": "python3"
  },
  "language_info": {
   "codemirror_mode": {
    "name": "ipython",
    "version": 3
   },
   "file_extension": ".py",
   "mimetype": "text/x-python",
   "name": "python",
   "nbconvert_exporter": "python",
   "pygments_lexer": "ipython3",
   "version": "3.9.7"
  }
 },
 "nbformat": 4,
 "nbformat_minor": 5
}
